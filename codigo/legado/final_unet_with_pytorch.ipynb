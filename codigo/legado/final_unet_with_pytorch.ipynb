{
  "cells": [
    {
      "cell_type": "code",
      "execution_count": null,
      "metadata": {
        "id": "DpjiL9NEKC43"
      },
      "outputs": [],
      "source": [
        "from google.colab import drive\n",
        "drive.mount('/content/drive')"
      ]
    },
    {
      "cell_type": "markdown",
      "metadata": {
        "id": "GgSmvVUDKC44"
      },
      "source": [
        "### Importação das Bibliotecas"
      ]
    },
    {
      "cell_type": "code",
      "execution_count": null,
      "metadata": {
        "id": "MBM0rq1fKC46"
      },
      "outputs": [],
      "source": [
        "import torchvision\n",
        "from torch.utils.data import DataLoader\n",
        "import albumentations as A\n",
        "from albumentations.pytorch import ToTensorV2\n",
        "from tqdm import tqdm\n",
        "import torch.nn as nn\n",
        "import torch.optim as optim\n",
        "import os\n",
        "from PIL import Image\n",
        "from torch.utils.data import Dataset\n",
        "import numpy as np\n",
        "import torch\n",
        "from torch.utils.data import DataLoader\n",
        "import torch\n",
        "import torch.nn as nn\n",
        "import torchvision.transforms.functional as TF\n",
        "import h5py\n",
        "import numpy as np\n",
        "from PIL import Image\n",
        "import os\n",
        "import time"
      ]
    },
    {
      "cell_type": "markdown",
      "metadata": {
        "id": "PqQ2-MBCKC47"
      },
      "source": [
        "- **torchvision**: Um pacote que fornece conjuntos de dados, arquiteturas de modelos e transformações de imagem para uso com o PyTorch. Facilita o trabalho com dados de visão computacional.\n",
        "\n",
        "- **torch.utils.data.DataLoader**: Um utilitário para carregar dados em lotes (mini-batches) durante o treinamento de modelos. Ele lida com a iteração eficiente e aleatória sobre os dados, além de suportar a paralelização.\n",
        "\n",
        "- **albumentations**: Uma biblioteca popular para aumentar (augment) imagens de maneira eficiente e flexível. Contém uma variedade de transformações como rotações, redimensionamento, cortes, etc., para aumentar a diversidade do dataset durante o treinamento.\n",
        "\n",
        "- **albumentations.pytorch.ToTensorV2**: Converte uma imagem (ou uma sequência de imagens) para um tensor do PyTorch, necessário para o treinamento de modelos.\n",
        "\n",
        "- **tqdm**: Uma biblioteca que fornece barras de progresso durante loops. É útil para visualizar o progresso de operações demoradas, como o treinamento de modelos.\n",
        "\n",
        "- **torch.nn as nn**: O módulo torch.nn contém classes e funções para construir redes neurais em PyTorch. Inclui camadas, funções de perda, ativação, etc.\n",
        "\n",
        "- **torch.optim as optim**: Fornece otimizadores que ajustam os parâmetros do modelo durante o treinamento, como SGD, Adam, e outros.\n",
        "\n",
        "- **os**: Utilizado para interagir com o sistema de arquivos, como navegação em diretórios e manipulação de caminhos de arquivos.\n",
        "\n",
        "- **PIL.Image**: PIL (Python Imaging Library) é usada para abrir, manipular e salvar imagens. Image é a classe principal para trabalhar com imagens.\n",
        "\n",
        "- **torch.utils.data.Dataset**: Uma classe base para criar novos conjuntos de dados personalizados para PyTorch. É geralmente usada em conjunto com DataLoader para carregar dados de forma eficiente.\n",
        "\n",
        "- **numpy as np**: Uma biblioteca fundamental para computação científica em Python, usada para trabalhar com arrays multidimensionais e realizar operações matemáticas e lógicas sobre grandes volumes de dados.\n",
        "\n",
        "- **torch**: A biblioteca principal do PyTorch para criar e treinar modelos de aprendizado profundo.\n",
        "\n",
        "- **torchvision.transforms.functional as TF**: Fornece funções úteis para realizar transformações de imagem, como redimensionamento, corte, normalização, etc., diretamente em tensores.\n",
        "\n",
        "- **h5py**: Uma biblioteca para interagir com arquivos HDF5, que são frequentemente usados para armazenar grandes volumes de dados estruturados, como os pesos de redes neurais.\n",
        "\n",
        "- **os** (repetido): Como mencionado, é utilizado para interação com o sistema de arquivos.\n"
      ]
    },
    {
      "cell_type": "markdown",
      "metadata": {
        "id": "t8QgAK62KC48"
      },
      "source": [
        "## Definição dos Caminhos das Pastas"
      ]
    },
    {
      "cell_type": "code",
      "execution_count": null,
      "metadata": {
        "id": "aGkH8d8SKC48"
      },
      "outputs": [],
      "source": [
        "# Defina o caminho das pastas onde as imagens serão salvas\n",
        "save_dir_x = '/content/images_x/'\n",
        "save_dir_y = '/content/images_y/'"
      ]
    },
    {
      "cell_type": "markdown",
      "metadata": {
        "id": "tHZnHD60KC49"
      },
      "source": [
        "### Criação das Pastas de Destino"
      ]
    },
    {
      "cell_type": "code",
      "execution_count": null,
      "metadata": {
        "id": "YhvpYyq-KC49"
      },
      "outputs": [],
      "source": [
        "os.makedirs(save_dir_x, exist_ok=True)\n",
        "os.makedirs(save_dir_y, exist_ok=True)"
      ]
    },
    {
      "cell_type": "markdown",
      "metadata": {
        "id": "1ko4EoDrKC49"
      },
      "source": [
        "- **os.makedirs(...)**: Cria as pastas de destino para armazenar os frames organizados. Se as pastas já existirem, o código pode lançar um erro, mas como esta é a primeira execução, presume-se que as pastas ainda não existem."
      ]
    },
    {
      "cell_type": "code",
      "execution_count": null,
      "metadata": {
        "id": "G8xvRKjnKC49"
      },
      "outputs": [],
      "source": [
        "with h5py.File('/content/drive/MyDrive/data/combined_data.h5', 'r') as f:\n",
        "\n",
        "    group_x = f['X']\n",
        "    group_y = f['Y']\n",
        "\n",
        "\n",
        "    for i in range(group_x.shape[0]):\n",
        "        data_x = np.array(group_x[i])\n",
        "        img_x = Image.fromarray(data_x)\n",
        "        img_path_x = os.path.join(save_dir_x, f'image_x_{i}.png')\n",
        "        img_x.save(img_path_x)\n",
        "        print(f'Imagem X {i} salva em: {img_path_x}')\n",
        "\n",
        "\n",
        "    for i in range(group_y.shape[0]):\n",
        "        data_y = np.array(group_y[i])\n",
        "        img_y = Image.fromarray(data_y)\n",
        "        img_path_y = os.path.join(save_dir_y, f'image_x_{i}.png')\n",
        "        img_y.save(img_path_y)\n",
        "        print(f'Imagem Y {i} salva em: {img_path_y}')"
      ]
    },
    {
      "cell_type": "markdown",
      "metadata": {
        "id": "q-RverXMKC4-"
      },
      "source": [
        "- **os.makedirs(save_dir_x, exist_ok=True) e os.makedirs(save_dir_y, exist_ok=True)**: Essas linhas garantem que as pastas onde as imagens serão salvas existam. Se as pastas não existirem, elas serão criadas automaticamente. O argumento exist_ok=True evita que ocorra um erro caso a pasta já exista.\n",
        "\n",
        "- **with h5py.File('/content/drive/MyDrive/data/combined_data.h5', 'r') as f:**: Essa linha abre o arquivo .h5 em modo de leitura ('r'). O uso do bloco with garante que o arquivo seja corretamente fechado após a leitura, mesmo que ocorra algum erro durante a execução do código.\n",
        "\n",
        "- **group_x = f['X'] e group_y = f['Y']**: Aqui, estamos acessando os grupos de dados chamados 'X' e 'Y' dentro do arquivo .h5. Esses grupos são equivalentes a diretórios dentro do arquivo HDF5, onde cada grupo contém dados (neste caso, imagens) organizados em formato de array.\n",
        "\n",
        "- **for i in range(group_x.shape[0]):**: Inicia um loop que itera sobre cada item no grupo 'X'. O group_x.shape[0] retorna o número total de imagens no grupo 'X', permitindo que o loop itere sobre cada uma delas.\n",
        "\n",
        "- **data_x = np.array(group_x[i])**: Converte o i-ésimo item do grupo 'X' em um array NumPy. Cada item em group_x é originalmente armazenado como um dataset HDF5, então é necessário convertê-lo para um array NumPy para manipulação posterior.\n",
        "\n",
        "- **img_x = Image.fromarray(data_x)**: Converte o array NumPy em uma imagem PIL. A biblioteca PIL é usada para abrir, manipular e salvar imagens em Python.\n",
        "\n",
        "- **img_path_x = os.path.join(save_dir_x, f'image_x_{i}.png')**: Cria o caminho completo para salvar a imagem X, combinando o diretório de destino (save_dir_x) com o nome do arquivo (image_x_{i}.png). O f-string é usado para inserir o índice i no nome do arquivo, garantindo que cada imagem tenha um nome único.\n",
        "\n",
        "- **img_x.save(img_path_x)**: Salva a imagem X no caminho especificado (img_path_x).\n",
        "\n",
        "- **print(f'Imagem X {i} salva em: {img_path_x}')**: Exibe uma mensagem de confirmação no console, informando que a imagem X foi salva com sucesso no caminho especificado.\n",
        "\n",
        "- **Repetição do processo para o grupo 'Y'**: O código para o grupo 'Y' segue o mesmo padrão que para o grupo 'X'. Ele converte cada item do grupo 'Y' em uma imagem, cria o caminho de salvamento correspondente e salva a imagem na pasta designada.\n",
        "\n",
        "- **img_path_y = os.path.join(save_dir_y, f'image_x_{i}.png')**: Note que eu coloco o mesmos nome do arquivo para as imagens Y usando image_x_{i}.png em vez de image_y_{i}.png. Isso e para que quando eu for fazer o treinamento dos arquivos eu não precise fazer um replace para apontar qual imagem Y se refere a X\n",
        "\n"
      ]
    },
    {
      "cell_type": "markdown",
      "metadata": {
        "id": "MCSHgSzvKC4-"
      },
      "source": [
        "### Definição da Classe DoubleConv"
      ]
    },
    {
      "cell_type": "code",
      "execution_count": null,
      "metadata": {
        "id": "CLsByp6jKC4-"
      },
      "outputs": [],
      "source": [
        "class DoubleConv(nn.Module):\n",
        "    def __init__(self, in_channels, out_channels, dropout_prob=0.1):\n",
        "        super(DoubleConv,self).__init__()\n",
        "        self.conv = nn.Sequential(\n",
        "            nn.Conv2d(in_channels, out_channels, kernel_size=3, padding=1),\n",
        "            nn.BatchNorm2d(out_channels),\n",
        "            nn.ReLU(inplace=True),\n",
        "            nn.Dropout(p=dropout_prob),\n",
        "            nn.Conv2d(out_channels, out_channels, kernel_size=3, padding=1),\n",
        "            nn.BatchNorm2d(out_channels),\n",
        "            nn.ReLU(inplace=True),\n",
        "            nn.Dropout(p=dropout_prob)\n",
        "        )\n",
        "\n",
        "    def forward(self,x):\n",
        "        return self.conv(x)"
      ]
    },
    {
      "cell_type": "markdown",
      "metadata": {
        "id": "sDLTG-nJKC4_"
      },
      "source": [
        "**in_channels**: O número de canais de entrada (por exemplo, 3 para imagens RGB).\n",
        "\n",
        "**out_channels**: O número de canais de saída após as convoluções.\n",
        "\n",
        "**dropout_prob=0.1**: Define a probabilidade de desligamento de neurônios durante o treinamento para evitar overfitting.\n",
        "\n",
        "**super(DoubleConv, self).__init__()**: Chama o construtor da superclasse (nn.Module) para garantir que a classe seja corretamente inicializada.\n",
        "\n",
        "Atributo **self.conv** define uma sequência de camadas  que será aplicada aos dados de entrada.\n",
        "\n",
        "**nn.Conv2d(in_channels, out_channels, kernel_size=3, padding=1)**:\n",
        "Aplica uma convolução aos dados de entrada com um kernel(mascara) de 3x3.\n",
        "\n",
        "**padding=1**: Adiciona um padding de 1 ao redor da entrada para manter as dimensões da imagem após a convolução.\n",
        "\n",
        "**nn.Dropout(p=dropout_prob)**: Aplica dropout para regularização, desligando neurônios com probabilidade dropout_prob.\n",
        "\n",
        "**nn.BatchNorm2d(out_channels)**: Aplica normalização em batch após a convolução para estabilizar a aprendizagem e acelerar a convergência.\n",
        "\n",
        "**nn.ReLU(inplace=True)**: Aplica a função de ativação ReLU, que introduz não linearidade ao modelo, substituindo todos os valores negativos por zero.\n",
        "\n",
        "Método **forward** define como os dados de entrada percorrem as camadas na rede."
      ]
    },
    {
      "cell_type": "markdown",
      "metadata": {
        "id": "pgRONk7sKC4_"
      },
      "source": [
        "### Definição da Classe CarvanaDataset"
      ]
    },
    {
      "cell_type": "code",
      "execution_count": null,
      "metadata": {
        "id": "aRuwcv0dKC4_"
      },
      "outputs": [],
      "source": [
        "class CarvanaDataset(Dataset):\n",
        "  def __init__(self, image_dir, mask_dir, transform=None):\n",
        "    self.image_dir = image_dir\n",
        "    self.mask_dir = mask_dir\n",
        "    self.transform = transform\n",
        "    self.images = os.listdir(image_dir)\n",
        "\n",
        "  def __len__(self):\n",
        "    return len(self.images)\n",
        "\n",
        "  def __getitem__(self, index):\n",
        "    img_path = os.path.join(self.image_dir, self.images[index])\n",
        "    mask_path = os.path.join(self.mask_dir,self.images[index])\n",
        "    image = np.array(Image.open(img_path))\n",
        "    mask = np.array(Image.open(mask_path).convert('L'),dtype=np.float32)\n",
        "    mask[mask == 225] = 1  # Cabeça em branco\n",
        "    if self.transform is not None:\n",
        "      argumentation = self.transform(image = image, mask=mask)\n",
        "      image = argumentation[\"image\"]\n",
        "      mask = argumentation[\"mask\"]\n",
        "    return image,mask"
      ]
    },
    {
      "cell_type": "markdown",
      "metadata": {
        "id": "kN2lQeL6KC4_"
      },
      "source": [
        "- **__init__(self, image_dir, mask_dir, transform=None)** : Método construtor que inicializa os diretórios de imagens e máscaras, bem como uma lista de todas as imagens no diretório especificado.\n",
        "\n",
        "- **image_dir** : Caminho para o diretório contendo as imagens.\n",
        "\n",
        "- **mask_dir** : Caminho para o diretório contendo as máscaras de segmentação.\n",
        "\n",
        "- **transform** : Transformações opcionais a serem aplicadas às imagens e máscaras, como augmentations.\n",
        "\n",
        "- **self.images = os.listdir(image_dir)** : Lista todos os arquivos de imagem no diretório image_dir e armazena os nomes em **self.images**.\n",
        "\n",
        "- **def __len__(self)** :Método que retorna o número total de imagens no dataset. Isso é necessário para que o PyTorch saiba o tamanho do dataset ao iterar sobre ele.\n"
      ]
    },
    {
      "cell_type": "markdown",
      "metadata": {
        "id": "_uuF71SlKC4_"
      },
      "source": [
        "- **def __getitem__(self, index)** : Método que carrega e retorna uma imagem e sua máscara correspondente com base no índice fornecido.\n",
        "\n",
        "- **img_path** :\n",
        "Constrói o caminho completo para a i-ésima imagem no dataset.\n",
        "- **mask_path** :\n",
        "Constrói o caminho completo para a máscara correspondente à i-ésima imagem.\n",
        "\n",
        "- **image** :\n",
        "Abre a imagem usando o PIL e a converte para um array NumPy.\n",
        "\n",
        "- **mask** :\n",
        "Abre a máscara correspondente e a converte para um array NumPy, convertendo-a para tons de cinza com o modo 'L'. A conversão é feita para facilitar a manipulação dos valores dos pixels.\n",
        "\n",
        "- **mask[mask == 225] = 1** : Ajusta os valores da máscara. Neste exemplo, os pixels com valor 225 são redefinidos para 1\n",
        "\n",
        "- **argumentation** : Aplica as transformações à imagem e à máscara.\n",
        "\n",
        "- **image** e **mask** :\n",
        "Recupera a imagem e a máscara transformadas.\n"
      ]
    },
    {
      "cell_type": "markdown",
      "metadata": {
        "id": "y1acV8WoKC5A"
      },
      "source": [
        "### Definição da Classe UNET"
      ]
    },
    {
      "cell_type": "code",
      "execution_count": null,
      "metadata": {
        "id": "bdg9l0EvKC5A"
      },
      "outputs": [],
      "source": [
        "class UNET(nn.Module):\n",
        "    def __init__(self, in_channels=3, out_channels=1, features=[64, 128,256,512], dropout_prob=0.1):\n",
        "\n",
        "        super(UNET, self).__init__()\n",
        "\n",
        "        self.ups = nn.ModuleList()\n",
        "        self.downs = nn.ModuleList()\n",
        "        self.pool = nn.MaxPool2d(kernel_size=2,stride=2)\n",
        "\n",
        "        for feature in features:\n",
        "            self.downs.append(DoubleConv(in_channels, feature, dropout_prob))\n",
        "            in_channels = feature\n",
        "\n",
        "        for feature in reversed(features):\n",
        "            self.ups.append(\n",
        "                nn.ConvTranspose2d(\n",
        "                    feature*2,\n",
        "                    feature,\n",
        "                    kernel_size=2,\n",
        "                    stride=2)),\n",
        "            self.ups.append(DoubleConv(feature*2, feature, dropout_prob))\n",
        "        self.bottleneck = DoubleConv(features[-1],features[-1]*2, dropout_prob)\n",
        "        self.final_conv = nn.Conv2d(features[0], out_channels,kernel_size=1)\n",
        "\n",
        "    def forward(self, x):\n",
        "        skip_connections = []\n",
        "\n",
        "        for down in self.downs:\n",
        "            x = down(x)\n",
        "            skip_connections.append(x)\n",
        "            x = self.pool(x)\n",
        "\n",
        "        x = self.bottleneck(x)\n",
        "        skip_connections = skip_connections[::-1]\n",
        "\n",
        "        for index in range (0, len(self.ups), 2):\n",
        "            x = self.ups[index](x)\n",
        "            skip_connection = skip_connections[index//2]\n",
        "\n",
        "            if x.shape != skip_connection.shape:\n",
        "                x = TF.resize(x, size=skip_connection.shape[2:])\n",
        "\n",
        "            concat_skip = torch.cat((skip_connection,x),dim=1)\n",
        "            x = self.ups[index+1](concat_skip)\n",
        "\n",
        "\n",
        "        return self.final_conv(x)"
      ]
    },
    {
      "cell_type": "markdown",
      "metadata": {
        "id": "WBq6ZMRmKC5A"
      },
      "source": [
        "- **__init__(self, in_channels=3, out_channels=1, features=[64, 128, 256, 512], dropout_prob=0.1)**: Método construtor que define a estrutura da rede.\n",
        "\n",
        "- **in_channels**: O número de canais de entrada aqui estamos usando 3 para imagens RGB.\n",
        "\n",
        "- **out_channels**: O número de canais de saída aqui estamos usando 1 para máscaras de segmentação binária.\n",
        "\n",
        "- **features**: Lista de filtros usados nas camadas convolucionais. Estes determinam a profundidade das feature maps em cada camada.\n",
        "\n",
        "- **dropout_prob=0.1**: Probabilidade de dropout para regularizar e evitar overfitting.\n",
        "\n",
        "- **downs**: Lista de módulos que representam o caminho de descida.\n",
        "\n",
        "- **ups**: Lista de módulos que representam o caminho de subida.\n",
        "\n",
        "- **self.pool = nn.MaxPool2d(kernel_size=2, stride=2)**: A operação de MaxPooling 2D é usada para reduzir as dimensões espaciais das feature maps pela metade.\n",
        "\n",
        "- Camadas de **Downsampling**: Para cada valor em features, adiciona uma camada dupla na lista **downs**. O número de canais de entrada é atualizado para o número de filtros após cada iteração.\n",
        "\n",
        "- Camadas de **Upsampling**: As camadas de Upsampling usam ConvTranspose2d para aumentar a dimensão das feature maps. Em seguida, cada camada é seguida por outra camada convolucional dupla (DoubleConv).\n",
        "\n",
        "- **self.bottleneck**: Define a camada intermediária da U-Net, onde a maior parte do processamento ocorre.\n",
        "\n",
        "- **self.final_conv**: Uma convolução final que reduz os canais de saída."
      ]
    },
    {
      "cell_type": "markdown",
      "metadata": {
        "id": "z1PiiKHpKC5A"
      },
      "source": [
        "- **skip_connections** : Lista que armazena as conexões de salto, que são usadas para concatenar os mapas de características durante a fase de upsampling.\n",
        "\n",
        "- Para cada camada em **downs**, a entrada passa por convoluções e pooling, e os resultados são armazenados em **skip_connections**.\n",
        "\n",
        "- **Bottleneck** : A entrada processada passa pela camada de bottleneck.\n",
        "\n",
        "- As conexões de salto são usadas aqui para concatenar os mapas de características da descida com as características da subida.\n",
        "\n",
        "- **x = TF.resize(x, size=skip_connection.shape[2:])** : Ajusta o tamanho dos mapas de características para garantir que possam ser concatenados corretamente.\n",
        "\n",
        "- **torch.cat((skip_connection, x), dim=1)** : Concatena as características da conexão de salto com as características de subida."
      ]
    },
    {
      "cell_type": "markdown",
      "metadata": {
        "id": "lpnnKFtDKC5B"
      },
      "source": [
        "### Funções para Checkpoints e Loaders"
      ]
    },
    {
      "cell_type": "code",
      "execution_count": null,
      "metadata": {
        "id": "MwRH6TzJKC5B"
      },
      "outputs": [],
      "source": [
        "def seve_checkpoint(state,filename=\"my_checkpoint.pth.tar\"):\n",
        "  print(\"=> Saving checkpoint\")\n",
        "  torch.save(state, filename)\n",
        "\n",
        "def load_checkpoint(checkpoint,model):\n",
        "  print(\"=> Loading checkpoint\")\n",
        "  model.load_state_dict(checkpoint[\"state_dict\"])\n",
        "\n",
        "def get_loaders(\n",
        "    train_dir,\n",
        "    train_maskdir,\n",
        "    val_dir,\n",
        "    val_maskdir,\n",
        "    batch_size,\n",
        "    train_transform,\n",
        "    val_transform,\n",
        "    num_workers=4,\n",
        "    pin_memory=True\n",
        "):\n",
        "  train_ds = CarvanaDataset(\n",
        "      image_dir=train_dir,\n",
        "      mask_dir=train_maskdir, #y\n",
        "      transform=train_transform,\n",
        "  )\n",
        "  train_loader = DataLoader(\n",
        "      train_ds,\n",
        "      batch_size=batch_size,\n",
        "      num_workers = num_workers,\n",
        "      pin_memory = pin_memory,\n",
        "      shuffle = True\n",
        "  )\n",
        "  val_ds = CarvanaDataset(\n",
        "      image_dir=val_dir,\n",
        "      mask_dir=val_maskdir,\n",
        "      transform=val_transform,\n",
        "  )\n",
        "\n",
        "  val_loader = DataLoader(\n",
        "    val_ds,\n",
        "    batch_size=batch_size,\n",
        "    num_workers = num_workers,\n",
        "    pin_memory = pin_memory,\n",
        "    shuffle = False\n",
        "  )\n",
        "  return train_loader,val_loader\n",
        "\n",
        "def check_accuracy(loader, model, device = \"cuda\"):\n",
        "  num_correct = 0\n",
        "  num_pixels = 0\n",
        "  dice_score =0\n",
        "  model.eval()\n",
        "\n",
        "  with torch.no_grad():\n",
        "    for x,y in loader:\n",
        "      x = x.to(device)\n",
        "      y = y.to(device)\n",
        "      preds = torch.sigmoid(model(x))\n",
        "      preds = (preds > 0.5).float()\n",
        "      num_correct += (preds ==y).sum()\n",
        "      num_pixels += torch.numel(preds)\n",
        "      dice_score +=(2*(preds*y).sum()/((preds+y).sum()+1e-8))\n",
        "  print(\n",
        "      f\"Tivemos {num_correct}/{num_pixels} com acurácia {num_correct/num_pixels*100:.2f}\"\n",
        "  )\n",
        "  print(f\"Dice score: {dice_score/len(loader)}\")\n",
        "  model.train()\n",
        "\n",
        "\n",
        "def save_predictions_as_imgs(\n",
        "    loader, model, folder=\"/content/saved_image\", device=\"cuda\"\n",
        "):\n",
        "    model.eval()\n",
        "    for index, (x, y) in enumerate(loader):\n",
        "        print(index)\n",
        "        x = x.to(device=device)\n",
        "        with torch.no_grad():\n",
        "            preds = torch.sigmoid(model(x))\n",
        "            preds = (preds > 0.5).float()\n",
        "\n",
        "        x = x.cpu().numpy()\n",
        "        y = y.cpu().numpy()\n",
        "        preds = preds.cpu().numpy()\n",
        "\n",
        "\n",
        "        x = (x - x.min()) / (x.max() - x.min())\n",
        "        y = (y - y.min()) / (y.max() - y.min())\n",
        "        preds = (preds - preds.min()) / (preds.max() - preds.min())\n",
        "\n",
        "\n",
        "        x_img = Image.fromarray((x[0] * 255).astype(np.uint8).transpose(1, 2, 0))\n",
        "        y_img = Image.fromarray((y[0] * 255).astype(np.uint8).squeeze())\n",
        "        preds_img = Image.fromarray((preds[0] * 255).astype(np.uint8).squeeze())\n",
        "\n",
        "\n",
        "        combined_img = Image.new('RGB', (x_img.width + y_img.width + preds_img.width, x_img.height))\n",
        "        combined_img.paste(x_img, (0, 0))\n",
        "        combined_img.paste(y_img.convert('RGB'), (x_img.width, 0))\n",
        "        combined_img.paste(preds_img.convert('RGB'), (x_img.width + y_img.width, 0))\n",
        "\n",
        "        combined_img.save(f\"{folder}/combined_{index}.png\")\n",
        "\n",
        "        print(\"Saved combined image\")\n",
        "\n",
        "    model.train()"
      ]
    },
    {
      "cell_type": "markdown",
      "metadata": {
        "id": "Y97Bfdp1KC5B"
      },
      "source": [
        "- **save_checkpoint(state, filename=\"my_checkpoint.pth.tar\")**: Salva o estado atual do modelo em um arquivo para permitir a retomada do treinamento a partir desse ponto.\n",
        "\n",
        "- **torch.save(state, filename)** : Utiliza a função torch.save para salvar o estado fornecido no arquivo especificado.\n",
        "\n",
        "- **my_checkpoint.pth.tar**: contém o checkpoint é salvo no disco."
      ]
    },
    {
      "cell_type": "markdown",
      "metadata": {
        "id": "_TwPvC5yKC5B"
      },
      "source": [
        "- **load_checkpoint(checkpoint, model)** : Carrega o estado salvo de um modelo a partir do checkpoint e restaura o modelo ao estado salvo.\n",
        "- **model.load_state_dict(checkpoint[\"state_dict\"])** : Carrega o dicionário de estados salvo no modelo."
      ]
    },
    {
      "cell_type": "markdown",
      "metadata": {
        "id": "Mld5oKsqKC5B"
      },
      "source": [
        "- **get_loaders(train_dir, train_maskdir, val_dir, val_maskdir, batch_size, train_transform, val_transform, num_workers=4, pin_memory=True)** : Cria e retorna os para os datasets de treinamento e validação.\n",
        "- **train_dir**: Diretório das imagens de treinamento.\n",
        "- **train_maskdir**: Diretório das máscaras de treinamento.\n",
        "- **val_dir**: Diretório das imagens de validação.\n",
        "- **val_maskdir**: Diretório das máscaras de validação.\n",
        "- **batch_size**: Tamanho do lote de dados.\n",
        "- **train_transform**: Transformações aplicadas ao dataset de treinamento.\n",
        "- **val_transform**: Transformações aplicadas ao dataset de validação.\n",
        "- **num_workers**: Número de threads a serem usadas na leitura dos dados.\n",
        "- **pin_memory**: Se True, os dados são copiados para a memória da GPU.\n"
      ]
    },
    {
      "cell_type": "markdown",
      "metadata": {
        "id": "CGbrkYB8KC5C"
      },
      "source": [
        "- **check_accuracy(loader, model, device=\"cuda\")** : Avalia a precisão e o Dice Score do modelo nos dados fornecidos pelo loader.\n",
        "\n",
        "- **loader**: Carregador de dados para avaliar a precisão.\n",
        "- **model**: O modelo de rede neural a ser avaliado.\n",
        "- **device**: O dispositivo (cuda ou cpu) no qual a       avaliação será realizada.\n",
        "\n",
        "- **num_correct**: Número de previsões corretas.\n",
        "- **num_pixels**: Número total de pixels avaliados.\n",
        "- **dice_score**: O Dice Score médio calculado no loader."
      ]
    },
    {
      "cell_type": "markdown",
      "metadata": {
        "id": "yMQUa_ygKC5C"
      },
      "source": [
        "- save_predictions_as_imgs(loader, model, folder=\"/content/saved_image\", device=\"cuda\") : Salva as previsões do modelo como imagens no diretório.\n",
        "\n",
        "- **loader**: Carregador de dados para gerar as previsões.\n",
        "- **model**: O modelo de rede neural para gerar as previsões.\n",
        "- **folder**: Diretório onde as imagens salvas serão armazenadas.\n",
        "- **device**: O dispositivo (cuda ou cpu) no qual a avaliação será realizada.\n",
        "\n",
        "\n",
        "- **x = x.to(device=device)**: Move os dados de entrada para o dispositivo especificado.\n",
        "- **preds = torch.sigmoid(model(x))**: Gera previsões usando a função de ativação Sigmoid.\n",
        "- **preds = (preds > 0.5).float()**: Converte as previsões para uma máscara binária.\n",
        "- **x = (x - x.min()) / (x.max() - x.min())**: Normaliza a imagem original.\n",
        "- **combined_img.save(f\"{folder}/combined_{index}.png\")**: Salva a imagem combinada no diretório especificado.\n"
      ]
    },
    {
      "cell_type": "markdown",
      "metadata": {
        "id": "iTPjoL3FKC5C"
      },
      "source": [
        "### Função de Perda"
      ]
    },
    {
      "cell_type": "markdown",
      "metadata": {
        "id": "xsnYL_PkKC5C"
      },
      "source": [
        "#### Dice Loss"
      ]
    },
    {
      "cell_type": "code",
      "execution_count": null,
      "metadata": {
        "id": "2rkjNMxWKC5C"
      },
      "outputs": [],
      "source": [
        "import tensorflow as tf\n",
        "\n",
        "# Define the Dice Loss function\n",
        "@tf.keras.utils.register_keras_serializable()\n",
        "def dice_loss(y_true, y_pred, smooth=1e-6):\n",
        "    y_true = tf.cast(y_true, tf.float32)\n",
        "    y_pred = tf.cast(y_pred, tf.float32)\n",
        "\n",
        "    intersection = tf.reduce_sum(y_true * y_pred)\n",
        "    union = tf.reduce_sum(y_true) + tf.reduce_sum(y_pred)\n",
        "\n",
        "    dice = (2. * intersection + smooth) / (union + smooth)\n",
        "    return 1 - dice\n"
      ]
    },
    {
      "cell_type": "markdown",
      "metadata": {
        "id": "XhLVnM98KC5C"
      },
      "source": [
        "#### Jaccard Loss"
      ]
    },
    {
      "cell_type": "code",
      "execution_count": null,
      "metadata": {
        "id": "5ei2k9YbKC5D"
      },
      "outputs": [],
      "source": [
        "\n",
        "@tf.keras.utils.register_keras_serializable()\n",
        "def jaccard_loss(y_true, y_pred):\n",
        "    y_true = tf.cast(y_true, tf.float32)\n",
        "    y_pred = tf.cast(y_pred, tf.float32)\n",
        "\n",
        "    intersection = tf.reduce_sum(y_true * y_pred)\n",
        "    sum_ = tf.reduce_sum(y_true + y_pred)\n",
        "    jac = (intersection + 1e-15) / (sum_ - intersection + 1e-15)\n",
        "\n",
        "    return 1 - jac\n"
      ]
    },
    {
      "cell_type": "markdown",
      "metadata": {
        "id": "GJj3wI8gKC5D"
      },
      "source": [
        "#### Cross Entopy"
      ]
    },
    {
      "cell_type": "code",
      "execution_count": null,
      "metadata": {
        "id": "rVwgTEQWKC5D"
      },
      "outputs": [],
      "source": [
        "\n",
        "@tf.keras.utils.register_keras_serializable()\n",
        "def cross_entropy_loss(y_true, y_pred):\n",
        "    y_true = tf.cast(y_true, tf.float32)\n",
        "    y_pred = tf.cast(y_pred, tf.float32)\n",
        "    loss = tf.keras.losses.binary_crossentropy(y_true, y_pred)\n",
        "    return tf.reduce_mean(loss)\n"
      ]
    },
    {
      "cell_type": "markdown",
      "metadata": {
        "id": "gpGZM0odKC5D"
      },
      "source": [
        "### Funções de Treinamento e Avaliação"
      ]
    },
    {
      "cell_type": "code",
      "execution_count": null,
      "metadata": {
        "id": "sDR0a2bJKC5D"
      },
      "outputs": [],
      "source": [
        "LEARN_RATE =3e-4\n",
        "DEVICE = \"cuda\" if torch.cuda.is_available else \"cpu\"\n",
        "BATCH_SIZE = 40\n",
        "NUM_EPOCHS = 16\n",
        "NUM_WORKERS = 200\n",
        "IMAGE_HEIGHT = 128\n",
        "IMAGE_WIDTH = 128\n",
        "PIN_MEMORY = True\n",
        "LOAD_MODEL = False\n",
        "TRAIN_IMG_DIR = \"/content/images_x\"\n",
        "TRAIN_MASK_DIR = \"/content/images_y\"\n",
        "VAL_IMG_DIR =\"/content/images_x\"\n",
        "VAL_MASK_DIR =\"/content/images_y\"\n",
        "\n",
        "class EarlyStopping:\n",
        "    def __init__(self, patience=150, min_delta=0):\n",
        "        self.patience = patience\n",
        "        self.min_delta = min_delta\n",
        "        self.counter = 0\n",
        "        self.best_loss = None\n",
        "        self.early_stop = False\n",
        "\n",
        "    def __call__(self, val_loss):\n",
        "        if self.best_loss is None:\n",
        "            self.best_loss = val_loss\n",
        "        elif val_loss > self.best_loss - self.min_delta:\n",
        "            self.counter += 1\n",
        "            if self.counter >= self.patience:\n",
        "                self.early_stop = True\n",
        "        else:\n",
        "            self.best_loss = val_loss\n",
        "            self.counter = 0\n",
        "\n",
        "def train_fn(loader, model, optimizer, loss_fn, scaler):\n",
        "  loop = tqdm(loader)\n",
        "  for batch_index, (data,targets) in enumerate(loop):\n",
        "    data = data.to(device=DEVICE)\n",
        "    targets = targets.float().unsqueeze(1).to(device=DEVICE)\n",
        "\n",
        "  with torch.cuda.amp.autocast():\n",
        "    predictions = model(data)\n",
        "    loss = loss_fn(predictions, targets)\n",
        "\n",
        "  optimizer.zero_grad()\n",
        "  scaler.scale(loss).backward()\n",
        "  scaler.step(optimizer)\n",
        "  scaler.update()\n",
        "\n",
        "  loop.set_postfix(loss=loss.item())\n",
        "\n",
        "def main():\n",
        "  train_transform = A.Compose(\n",
        "        [\n",
        "          A.Resize(height=IMAGE_HEIGHT, width=IMAGE_WIDTH),\n",
        "          A.Rotate(limit=35,p=1.0),\n",
        "          A.HorizontalFlip(p=0.5),\n",
        "          A.VerticalFlip(p=0.1),\n",
        "          A.Normalize(\n",
        "              mean=[0.0,0.0,0.0],\n",
        "              srd=[1.0,1.0,1.0],\n",
        "              max_pixel_value=255.0\n",
        "          ),\n",
        "          ToTensorV2()\n",
        "        ])\n",
        "\n",
        "  val_transform = A.Compose(\n",
        "        [\n",
        "          A.Resize(height=IMAGE_HEIGHT, width=IMAGE_WIDTH),\n",
        "          A.Normalize(\n",
        "              mean=[0.0,0.0,0.0],\n",
        "              srd=[1.0,1.0,1.0],\n",
        "              max_pixel_value=255.0\n",
        "          ),\n",
        "          ToTensorV2()\n",
        "        ])\n",
        "  model = UNET(in_channels=3,out_channels=1).to(DEVICE)\n",
        "  l1_lambda = 1e-5\n",
        "  l2_lambda = 1e-4\n",
        "  loss_fn = nn.BCEWithLogitsLoss()\n",
        "  loss_fn_dice = jaccard_loss\n",
        "  loss_fn_cross = cross_entropy_loss\n",
        "  loss_fn_jaccard = dice_loss\n",
        "  optimizer = optim.Adam(model.parameters(), lr=LEARN_RATE)\n",
        "  train_loader, val_loader = get_loaders(\n",
        "      TRAIN_IMG_DIR,\n",
        "      TRAIN_MASK_DIR,\n",
        "      VAL_IMG_DIR,\n",
        "      VAL_MASK_DIR,\n",
        "      BATCH_SIZE,\n",
        "      train_transform,\n",
        "      val_transform,\n",
        "      NUM_WORKERS,\n",
        "      PIN_MEMORY\n",
        "\n",
        "  )\n",
        "  scaler = torch.cuda.amp.GradScaler()\n",
        "  early_stopping = EarlyStopping(patience=150)\n",
        "  inicio = time.time()\n",
        "  for epoch in range(NUM_EPOCHS):\n",
        "    train_fn(train_loader,model,optimizer,loss_fn,scaler)\n",
        "\n",
        "    val_loss = check_accuracy(val_loader, model, device=DEVICE)\n",
        "\n",
        "    early_stopping(val_loss)\n",
        "    if early_stopping.early_stop:\n",
        "      print(\"Early stopping triggered\")\n",
        "      break\n",
        "\n",
        "    checkpoint = {\n",
        "        \"state_dict\":model.state_dict(),\n",
        "        \"optimizer\":optimizer.state_dict()\n",
        "    }\n",
        "    seve_checkpoint(checkpoint)\n",
        "\n",
        "    save_predictions_as_imgs(val_loader,model,device=DEVICE)\n",
        "  fim = time.time()\n",
        "  print(f\"Tempo de treinamento: {fim-inicio}\")\n",
        "\n",
        "if __name__ ==\"__main__\":\n",
        "  main()"
      ]
    },
    {
      "cell_type": "markdown",
      "metadata": {
        "id": "OsN6mabCKC5E"
      },
      "source": [
        "- EarlyStopping: Classe responsável por monitorar a perda de validação durante o treinamento e interromper o processo se a perda não melhorar após um número definido de épocas (patience). Ajuda a evitar o overfitting e economizar tempo de treinamento.\n",
        "- **patience**: Número de épocas que o treinamento irá continuar sem melhora antes de acionar o early stopping.\n",
        "- **min_delta**: Valor mínimo de melhora na perda necessário para resetar o contador de paciência.\n",
        "- **counter**: Contador que rastreia quantas épocas consecutivas ocorreram sem melhora.\n",
        "- **best_loss**: A melhor perda de validação observada até o momento.\n",
        "- **early_stop**: Booleano que indica se o treinamento deve ser interrompido.\n",
        "- train_fn(loader, model, optimizer, loss_fn, scaler) : Treina o modelo usando os dados fornecidos pelo loader, ajustando os pesos do modelo com base na função de perda loss_fn.\n",
        "- **loader**: Carregador de dados para treinamento.\n",
        "- **model**: O modelo de rede neural a ser treinado.\n",
        "- **optimizer**: Otimizador para atualizar os pesos do modelo.\n",
        "- **loss_fn**: Função de perda usada para calcular a perda entre as previsões e os alvos.\n",
        "- **scaler**: Escalador de precisão mista para melhorar o desempenho de treinamento em GPUs.\n",
        "- **data.to(device=DEVICE)**: Move os dados de entrada para o dispositivo (cuda ou cpu).\n",
        "- **targets.float().unsqueeze(1).to(device=DEVICE)**: Move os alvos para o dispositivo e ajusta suas dimensões.\n",
        "- **torch.cuda.amp.autocast()**: Contexto para computação com precisão mista.\n",
        "- **predictions = model(data)**: Gera previsões do modelo para os dados fornecidos.\n",
        "- **loss = loss_fn(predictions, targets)**: Calcula a perda entre as previsões e os alvos.\n",
        "- **optimizer.zero_grad()**: Zera os gradientes acumulados.\n",
        "- **scaler.scale(loss).backward()**: Calcula os gradientes com base na perda escalada.\n",
        "- **scaler.step(optimizer)**: Atualiza os pesos do modelo.\n",
        "- **scaler.update()**: Atualiza o escalador."
      ]
    },
    {
      "cell_type": "markdown",
      "metadata": {
        "id": "tsHCA3BRKC5L"
      },
      "source": [
        "- main(): Função principal que configura e executa o treinamento do modelo e a avaliação.\n",
        "- **train_transform**: Define as transformações a serem aplicadas às imagens de treinamento, incluindo redimensionamento, rotação, flips, normalização e conversão para tensor.\n",
        "- **val_transform**: Define as transformações a serem aplicadas às imagens de validação, incluindo redimensionamento, normalização e conversão para tensor.\n",
        "- **model**: Inicializa o modelo UNET e o move para o dispositivo especificado.\n",
        "- **l1_lambda**: 1e-5: Fator de regularização L1 que penaliza grandes magnitudes dos pesos para promover esparsidade.\n",
        "- **l2_lambda**: 1e-4: Fator de regularização L2 penaliza grandes pesos para prevenir overfitting e melhorar a generalização.\n",
        "- **loss_fn**: Define a função de perda.\n",
        "- **optimizer**: Inicializa o otimizador Adam.\n",
        "- **train_loader, val_loader**: Obtém os carregadores de dados de treinamento e validação usando a função get_loaders.\n",
        "- **scaler**: Inicializa o escalador de precisão mista.\n",
        "- **early_stopping**:EarlyStopping(patience=150): Configura a parada antecipada para interromper treinamento se a perda não melhorar após 150 épocas.\n",
        "- **for epoch in range(NUM_EPOCHS)**: Loop de treinamento para o número especificado de épocas.\n",
        "- **train_fn()**: Chama a função de treinamento para cada época.\n",
        "- **checkpoint**: Cria um dicionário com o estado do modelo e do otimizador.\n",
        "- **save_checkpoint()**: Salva o checkpoint do modelo.\n",
        "- **check_accuracy()**: Avalia a precisão do modelo nos dados de validação.\n",
        "- **save_predictions_as_imgs()**: Salva as previsões do modelo como imagens."
      ]
    },
    {
      "cell_type": "code",
      "execution_count": null,
      "metadata": {
        "colab": {
          "background_save": true
        },
        "id": "y0IX7_VNzoDR",
        "outputId": "9b1a69ac-18ac-4b56-f149-79e7fefa33b5"
      },
      "outputs": [
        {
          "data": {
            "image/png": "[encoded data removed]",
            "text/plain": [
              "<PIL.PngImagePlugin.PngImageFile image mode=RGB size=384x128>"
            ]
          },
          "execution_count": 10,
          "metadata": {},
          "output_type": "execute_result"
        }
      ],
      "source": [
        "Image.open(\"/content/saved_image/combined_44.png\")"
      ]
    },
    {
      "cell_type": "code",
      "execution_count": null,
      "metadata": {
        "colab": {
          "base_uri": "https://localhost:8080/",
          "height": 145
        },
        "id": "nQlLUVfnKgWX",
        "outputId": "d5d0e7e3-a49d-46ed-c7ef-e33d6eb92f60"
      },
      "outputs": [
        {
          "data": {
            "image/png": "[encoded data removed]",
            "text/plain": [
              "<PIL.PngImagePlugin.PngImageFile image mode=RGB size=384x128>"
            ]
          },
          "execution_count": 25,
          "metadata": {},
          "output_type": "execute_result"
        }
      ],
      "source": [
        "Image.open(\"/content/saved_image/combined_63.png\")"
      ]
    },
    {
      "cell_type": "code",
      "execution_count": null,
      "metadata": {
        "colab": {
          "base_uri": "https://localhost:8080/",
          "height": 145
        },
        "id": "gjHrhRVNE3B0",
        "outputId": "18dba4ec-695e-48c6-eda1-1befc54e0ca8"
      },
      "outputs": [
        {
          "data": {
            "image/png": "[encoded data removed]",
            "text/plain": [
              "<PIL.PngImagePlugin.PngImageFile image mode=RGB size=384x128>"
            ]
          },
          "execution_count": 28,
          "metadata": {},
          "output_type": "execute_result"
        }
      ],
      "source": [
        "Image.open(\"/content/saved_image/combined_111.png\")"
      ]
    },
    {
      "cell_type": "code",
      "execution_count": null,
      "metadata": {
        "colab": {
          "base_uri": "https://localhost:8080/",
          "height": 145
        },
        "id": "HwDj0rf70lfn",
        "outputId": "396a13b1-fd93-4646-d547-78042e6d43f5"
      },
      "outputs": [
        {
          "data": {
            "image/png": "[encoded data removed]",
            "text/plain": [
              "<PIL.PngImagePlugin.PngImageFile image mode=RGB size=384x128>"
            ]
          },
          "execution_count": 24,
          "metadata": {},
          "output_type": "execute_result"
        }
      ],
      "source": [
        "Image.open(\"/content/saved_image/combined_151.png\")"
      ]
    }
  ],
  "metadata": {
    "colab": {
      "provenance": []
    },
    "kernelspec": {
      "display_name": "Python 3",
      "language": "python",
      "name": "python3"
    },
    "language_info": {
      "codemirror_mode": {
        "name": "ipython",
        "version": 3
      },
      "file_extension": ".py",
      "mimetype": "text/x-python",
      "name": "python",
      "nbconvert_exporter": "python",
      "pygments_lexer": "ipython3",
      "version": "3.12.3"
    }
  },
  "nbformat": 4,
  "nbformat_minor": 0
}
