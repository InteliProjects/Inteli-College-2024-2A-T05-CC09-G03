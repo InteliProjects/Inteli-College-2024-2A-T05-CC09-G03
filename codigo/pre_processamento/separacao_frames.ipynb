{
 "cells": [
  {
   "cell_type": "markdown",
   "id": "f41e8c31",
   "metadata": {},
   "source": [
    "# Reorganização dos frames\n",
    "\n",
    "## Objetivo do Arquivo\n",
    "\n",
    "Este notebook tem como objetivo organizar os frames extraídos de vídeos em pastas separadas para facilitar o processamento subsequente. O arquivo recebe frames brutos em uma pasta única e os distribui em diferentes pastas.\n",
    "\n",
    "## Estrutura e Funcionamento\n",
    "\n",
    "O notebook está dividido em várias etapas principais:\n",
    "\n",
    "1. **Carregamento dos Frames**: Nesta seção, os frames são carregados da pasta de origem.\n",
    "2. **Separação dos Frames**: Os frames são separados em diferentes pastas com base em critérios estabelecidos (por exemplo, número de frames ou características específicas).\n",
    "\n",
    "\n",
    "## O que o Arquivo Gera\n",
    "\n",
    "Ao final da execução, o notebook gera a seguinte saída:\n",
    "\n",
    "- **Pastas Organizadas**: Frames separados em diferentes pastas, organizados conforme os critérios estabelecidos.\n"
   ]
  },
  {
   "cell_type": "markdown",
   "metadata": {},
   "source": [
    "# Coleta e Processamento de Imagens"
   ]
  },
  {
   "cell_type": "markdown",
   "metadata": {},
   "source": [
    "## Organização e Movimentação de Arquivos para subpastas organizadas\n",
    "\n",
    "Organizaremos os frames de imagens armazenados em uma pasta no Google Drive e os movemos para subpastas específicas. \n",
    "\n",
    "A estrutura do código é projetada para identificar arquivos baseados em padrões de nomenclatura e, em seguida, organizá-los automaticamente em diferentes diretórios, o que facilita o gerenciamento dos dados e a preparação para o treinamento de modelos de IA."
   ]
  },
  {
   "cell_type": "markdown",
   "metadata": {},
   "source": [
    "### Importação das Bibliotecas"
   ]
  },
  {
   "cell_type": "code",
   "execution_count": 1,
   "metadata": {},
   "outputs": [],
   "source": [
    "import os\n",
    "import shutil"
   ]
  },
  {
   "cell_type": "markdown",
   "metadata": {},
   "source": [
    "- **os**: Esta biblioteca é utilizada para interagir com o sistema de arquivos, como navegar em diretórios e manipular caminhos de arquivos.\n",
    "- **shutil**: Usada para operações de movimentação e cópia de arquivos. Neste script, será usada para mover arquivos de um diretório para outro."
   ]
  },
  {
   "cell_type": "markdown",
   "metadata": {},
   "source": [
    "### Definição dos Caminhos das Pastas"
   ]
  },
  {
   "cell_type": "code",
   "execution_count": 6,
   "metadata": {},
   "outputs": [],
   "source": [
    "# Caminho da nossa pasta que contém todos os frames\n",
    "pasta_origem = \"C:\\\\Users\\\\Inteli\\\\Documents\\\\2BRAIN\\\\2 - Source Material\\\\CCM09\\\\2024-2A-T05-CC09-G03\\\\codigo\\\\pipeline_dados\\\\labels_agrupado\"\n",
    "\n",
    "# Caminhos do drive onde iremos gerar as pastas para salvar os frames\n",
    "x = \".data/05-08/termica/x_files\"\n",
    "y = \".data/05-08/termica/y_files\"\n"
   ]
  },
  {
   "cell_type": "markdown",
   "metadata": {},
   "source": [
    "- **pasta_origem**: Especifica o caminho para o diretório de origem onde todos os frames estão armazenados. Esse é o local de onde os arquivos serão movidos.\n",
    "- **x, y**: Esses são os caminhos de destino para os diferentes grupos de arquivos. Cada variável corresponde a uma pasta onde os arquivos serão organizados com base em padrões específicos."
   ]
  },
  {
   "cell_type": "markdown",
   "metadata": {},
   "source": [
    "### Criação das Pastas de Destino"
   ]
  },
  {
   "cell_type": "code",
   "execution_count": 8,
   "metadata": {},
   "outputs": [],
   "source": [
    "# Aqui criamos as pastas\n",
    "os.makedirs(x)\n",
    "os.makedirs(y)\n"
   ]
  },
  {
   "cell_type": "markdown",
   "metadata": {},
   "source": [
    "- **os.makedirs(...)**: Cria as pastas de destino para armazenar os frames organizados. Se as pastas já existirem, o código pode lançar um erro, mas como esta é a primeira execução, presume-se que as pastas ainda não existem."
   ]
  },
  {
   "cell_type": "markdown",
   "metadata": {},
   "source": [
    "### Organização e Movimentação dos Arquivos"
   ]
  },
  {
   "cell_type": "code",
   "execution_count": 9,
   "metadata": {},
   "outputs": [
    {
     "name": "stdout",
     "output_type": "stream",
     "text": [
      "Arquivos separados!\n"
     ]
    }
   ],
   "source": [
    "# Percorre a pasta onde contém os frames\n",
    "for arquivo in os.listdir(pasta_origem):\n",
    "    caminho_completo = os.path.join(pasta_origem, arquivo)\n",
    "    \n",
    "    # Identifica o arquivo e o coloca em sua respectiva pasta.\n",
    "    if os.path.isfile(caminho_completo):\n",
    "        if \"_x\" in arquivo:\n",
    "            shutil.move(caminho_completo, x)\n",
    "        elif \"_y\" in arquivo:\n",
    "            shutil.move(caminho_completo, y)\n",
    "        \n",
    "\n",
    "print(\"Arquivos separados!\")"
   ]
  },
  {
   "cell_type": "markdown",
   "metadata": {},
   "source": [
    "- **for arquivo in os.listdir(pasta_origem)**: Este loop percorre todos os arquivos no diretório de origem especificado por pasta_origem.\n",
    "- **caminho_completo = os.path.join(pasta_origem, arquivo)**: Concatena o caminho da pasta de origem com o nome de cada arquivo para obter o caminho completo do arquivo, necessário para a movimentação.\n",
    "- **if os.path.isfile(caminho_completo)**: Verifica se o caminho corresponde a um arquivo (e não a um diretório ou outro tipo de objeto).\n",
    "- **shutil.move(caminho_completo, x1/x2)**: Dependendo do padrão de nomenclatura encontrado no nome do arquivo (\"_x\", \"_y\"), o arquivo é movido para a pasta correspondente."
   ]
  }
 ],
 "metadata": {
  "kernelspec": {
   "display_name": "Python 3",
   "language": "python",
   "name": "python3"
  },
  "language_info": {
   "codemirror_mode": {
    "name": "ipython",
    "version": 3
   },
   "file_extension": ".py",
   "mimetype": "text/x-python",
   "name": "python",
   "nbconvert_exporter": "python",
   "pygments_lexer": "ipython3",
   "version": "3.12.2"
  }
 },
 "nbformat": 4,
 "nbformat_minor": 2
}
