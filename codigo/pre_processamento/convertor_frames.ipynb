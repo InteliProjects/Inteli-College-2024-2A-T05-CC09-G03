{
 "cells": [
  {
   "cell_type": "markdown",
   "id": "5255d909",
   "metadata": {},
   "source": [
    "\n",
    "# Conversor de Frames\n",
    "\n",
    "## Objetivo do Notebook\n",
    "Este notebook tem como objetivo converter vídeos em frames individuais, que posteriormente serão processados para identificar áreas de interesse (cabeça e olhos) em bovinos usando câmeras termográficas.\n",
    "Cada frame será salvo no formato PNG para garantir a qualidade da imagem e a compatibilidade com as ferramentas de processamento utilizadas posteriormente.\n",
    "\n",
    "## Justificativa do Formato PNG\n",
    "O formato PNG foi escolhido por suas características de compressão sem perda, o que é essencial para manter a qualidade das imagens termográficas durante o processamento. Formatos como TIFF, embora ofereçam alta qualidade, podem gerar arquivos muito grandes, dificultando o armazenamento e a manipulação dos dados. O PNG oferece um equilíbrio ideal entre qualidade de imagem e tamanho de arquivo, além de ser amplamente suportado por diversas bibliotecas de processamento de imagem.\n"
   ]
  },
  {
   "cell_type": "markdown",
   "id": "e95b7e32",
   "metadata": {},
   "source": [
    "\n",
    "## Seções do Código\n",
    "Este notebook está dividido nas seguintes seções:\n",
    "\n",
    "1. **Instalação e Importação de Bibliotecas**: Instala as bibliotecas necessárias e carrega as dependências para o processamento dos vídeos.\n",
    "2. **Carregamento do Vídeo**: Carrega o vídeo a ser processado e define os parâmetros de saída.\n",
    "3. **Conversão de Vídeo para Frames**: Processa o vídeo, dividindo-o em frames individuais.\n",
    "4. **Salvamento dos Frames**: Salva cada frame em um diretório específico, no formato PNG.\n",
    "5. **Conclusão**: Finaliza o processo e exibe uma mensagem de conclusão.\n"
   ]
  },
  {
   "cell_type": "markdown",
   "metadata": {},
   "source": [
    "# Coleta e Processamento de Imagens"
   ]
  },
  {
   "cell_type": "markdown",
   "metadata": {},
   "source": [
    "## Conversão de vídeos em frames"
   ]
  },
  {
   "cell_type": "markdown",
   "metadata": {},
   "source": [
    "A biblioteca `cv2` faz parte do OpenCV, uma ferramenta de processamento de imagem e visão computacional. O OpenCV foi escolhido devido à sua ampla adoção na comunidade científica e pela sua vasta coleção de funções que facilitam a manipulação de imagens e vídeos. \n"
   ]
  },
  {
   "cell_type": "markdown",
   "metadata": {},
   "source": [
    "### Instalação da biblioteca cv2"
   ]
  },
  {
   "cell_type": "code",
   "execution_count": 8,
   "metadata": {},
   "outputs": [
    {
     "name": "stdout",
     "output_type": "stream",
     "text": [
      "No global/local python version has been set yet. Please set the global/local version by typing:\n",
      "pyenv global 3.7.4\n",
      "pyenv local 3.7.4\n"
     ]
    }
   ],
   "source": [
    "# !pip install cv2"
   ]
  },
  {
   "cell_type": "markdown",
   "metadata": {},
   "source": [
    "### Importação da biblioteca cv2"
   ]
  },
  {
   "cell_type": "markdown",
   "metadata": {},
   "source": [
    "Após a instalação, a primeira etapa do código é a importação da biblioteca `cv2`, pois ela é uma das mais completas e eficientes para tarefas de processamento de imagens e vídeos. Ela oferece uma vasta gama de funções que simplificam tarefas complexas, como a leitura de diferentes formatos de vídeos e a manipulação de frames."
   ]
  },
  {
   "cell_type": "code",
   "execution_count": 1,
   "metadata": {},
   "outputs": [],
   "source": [
    "import cv2"
   ]
  },
  {
   "cell_type": "markdown",
   "metadata": {},
   "source": [
    "A seguir, especificamos o caminho do vídeo que será processado. Os vídeos estão armazenados localmente, e a variável `path_videos` contém uma lista com o caminho para cada vídeo."
   ]
  },
  {
   "cell_type": "code",
   "execution_count": null,
   "metadata": {},
   "outputs": [],
   "source": [
    "paths = [\n",
    "    {'video': 'path/to/video1.mp4', 'output_folder': 'path/to/output1'},\n",
    "    {'video': 'path/to/video2.mp4', 'output_folder': 'path/to/output2'}\n",
    "]"
   ]
  },
  {
   "cell_type": "markdown",
   "metadata": {},
   "source": [
    "Neste próximo bloco de código, realizamos a leitura e processamento dos vídeos especificados na lista path_videos, extraindo frames em intervalos definidos para evitar usar frames sequenciais, a fim de evitar redundância, garantindo a diversidade das imagens."
   ]
  },
  {
   "cell_type": "code",
   "execution_count": 4,
   "metadata": {},
   "outputs": [],
   "source": [
    "# Loop para cada vídeo na lista de caminhos\n",
    "for path in paths:\n",
    "    # Abre o vídeo\n",
    "    vidcap = cv2.VideoCapture(path['video'])\n",
    "\n",
    "    # Define o número de frames a serem pulados para garantir a diversidade\n",
    "    frames_to_skip = 25\n",
    "\n",
    "    # Inicializa contadores de imagens geradas e do frame atual\n",
    "    count = 0\n",
    "    frame_index = 0\n",
    "\n",
    "    # Loop para ler e processar o vídeo frame por frame\n",
    "    while vidcap.isOpened():\n",
    "        success, image = vidcap.read()  # Lê o frame atual\n",
    "\n",
    "        if not success:  # Se não conseguir ler, termina o loop\n",
    "            break\n",
    "\n",
    "        # Salva o frame atual se ele estiver no intervalo definido\n",
    "        if frame_index % frames_to_skip == 0:\n",
    "            output_path = f\"{path['output_folder']}/frame-{count}.png\"\n",
    "            cv2.imwrite(output_path, image)\n",
    "            count += 1  # Incrementa o contador de imagens salvas\n",
    "\n",
    "        frame_index += 1  # Incrementa o índice do frame\n",
    "\n",
    "    vidcap.release()  # Libera o vídeo após o processamento\n",
    "\n",
    "print('Processamento completo.')\n"
   ]
  },
  {
   "cell_type": "markdown",
   "id": "14fe2428",
   "metadata": {},
   "source": [
    "\n",
    "## Garantia da Diversidade\n",
    "Para garantir a diversidade no conjunto de dados processados, os vídeos foram selecionados de diferentes lotes de bovinos, representando uma ampla gama de condições ambientais e fisiológicas. Isso assegura que o modelo treinado seja robusto e capaz de generalizar bem para diferentes condições no campo.\n"
   ]
  }
 ],
 "metadata": {
  "kernelspec": {
   "display_name": "Python 3",
   "language": "python",
   "name": "python3"
  },
  "language_info": {
   "codemirror_mode": {
    "name": "ipython",
    "version": 3
   },
   "file_extension": ".py",
   "mimetype": "text/x-python",
   "name": "python",
   "nbconvert_exporter": "python",
   "pygments_lexer": "ipython3",
   "version": "3.12.2"
  }
 },
 "nbformat": 4,
 "nbformat_minor": 2
}
