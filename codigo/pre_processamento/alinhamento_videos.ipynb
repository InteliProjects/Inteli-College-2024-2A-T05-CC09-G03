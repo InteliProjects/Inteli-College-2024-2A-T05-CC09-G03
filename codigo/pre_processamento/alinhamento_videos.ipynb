{
  "cells": [
    {
      "cell_type": "code",
      "execution_count": null,
      "metadata": {
        "colab": {
          "base_uri": "https://localhost:8080/",
          "height": 756
        },
        "id": "oOF0_MTD4NsJ",
        "outputId": "6a08a3bf-8d1f-4e5b-c306-7099e01e3811"
      },
      "outputs": [
        {
          "output_type": "stream",
          "name": "stdout",
          "text": [
            "Collecting moviepy\n",
            "  Downloading moviepy-1.0.3.tar.gz (388 kB)\n",
            "\u001b[2K     \u001b[90m━━━━━━━━━━━━━━━━━━━━━━━━━━━━━━━━━━━━━━━━\u001b[0m \u001b[32m388.3/388.3 kB\u001b[0m \u001b[31m2.3 MB/s\u001b[0m eta \u001b[36m0:00:00\u001b[0m\n",
            "\u001b[?25h  Preparing metadata (setup.py) ... \u001b[?25l\u001b[?25hdone\n",
            "Collecting decorator<5.0,>=4.0.2 (from moviepy)\n",
            "  Downloading decorator-4.4.2-py2.py3-none-any.whl.metadata (4.2 kB)\n",
            "Requirement already satisfied: tqdm<5.0,>=4.11.2 in /usr/local/lib/python3.10/dist-packages (from moviepy) (4.66.5)\n",
            "Requirement already satisfied: requests<3.0,>=2.8.1 in /usr/local/lib/python3.10/dist-packages (from moviepy) (2.32.3)\n",
            "Collecting proglog<=1.0.0 (from moviepy)\n",
            "  Downloading proglog-0.1.10-py3-none-any.whl.metadata (639 bytes)\n",
            "Requirement already satisfied: numpy>=1.17.3 in /usr/local/lib/python3.10/dist-packages (from moviepy) (1.26.4)\n",
            "Requirement already satisfied: imageio<3.0,>=2.5 in /usr/local/lib/python3.10/dist-packages (from moviepy) (2.35.1)\n",
            "Collecting imageio_ffmpeg>=0.2.0 (from moviepy)\n",
            "  Downloading imageio_ffmpeg-0.5.1-py3-none-manylinux2010_x86_64.whl.metadata (1.6 kB)\n",
            "Requirement already satisfied: pillow>=8.3.2 in /usr/local/lib/python3.10/dist-packages (from imageio<3.0,>=2.5->moviepy) (10.4.0)\n",
            "Requirement already satisfied: setuptools in /usr/local/lib/python3.10/dist-packages (from imageio_ffmpeg>=0.2.0->moviepy) (71.0.4)\n",
            "Requirement already satisfied: charset-normalizer<4,>=2 in /usr/local/lib/python3.10/dist-packages (from requests<3.0,>=2.8.1->moviepy) (3.3.2)\n",
            "Requirement already satisfied: idna<4,>=2.5 in /usr/local/lib/python3.10/dist-packages (from requests<3.0,>=2.8.1->moviepy) (3.10)\n",
            "Requirement already satisfied: urllib3<3,>=1.21.1 in /usr/local/lib/python3.10/dist-packages (from requests<3.0,>=2.8.1->moviepy) (2.0.7)\n",
            "Requirement already satisfied: certifi>=2017.4.17 in /usr/local/lib/python3.10/dist-packages (from requests<3.0,>=2.8.1->moviepy) (2024.8.30)\n",
            "Downloading decorator-4.4.2-py2.py3-none-any.whl (9.2 kB)\n",
            "Downloading imageio_ffmpeg-0.5.1-py3-none-manylinux2010_x86_64.whl (26.9 MB)\n",
            "\u001b[2K   \u001b[90m━━━━━━━━━━━━━━━━━━━━━━━━━━━━━━━━━━━━━━━━\u001b[0m \u001b[32m26.9/26.9 MB\u001b[0m \u001b[31m42.4 MB/s\u001b[0m eta \u001b[36m0:00:00\u001b[0m\n",
            "\u001b[?25hDownloading proglog-0.1.10-py3-none-any.whl (6.1 kB)\n",
            "Building wheels for collected packages: moviepy\n",
            "  Building wheel for moviepy (setup.py) ... \u001b[?25l\u001b[?25hdone\n",
            "  Created wheel for moviepy: filename=moviepy-1.0.3-py3-none-any.whl size=110712 sha256=fc4b43031d87a252fb606ee045c597bc6ca2de46914011b21131a547124dfdbb\n",
            "  Stored in directory: /root/.cache/pip/wheels/96/32/2d/e10123bd88fbfc02fed53cc18c80a171d3c87479ed845fa7c1\n",
            "Successfully built moviepy\n",
            "Installing collected packages: proglog, imageio_ffmpeg, decorator, moviepy\n",
            "  Attempting uninstall: decorator\n",
            "    Found existing installation: decorator 5.1.1\n",
            "    Uninstalling decorator-5.1.1:\n",
            "      Successfully uninstalled decorator-5.1.1\n",
            "\u001b[31mERROR: pip's dependency resolver does not currently take into account all the packages that are installed. This behaviour is the source of the following dependency conflicts.\n",
            "ipython 7.34.0 requires jedi>=0.16, which is not installed.\u001b[0m\u001b[31m\n",
            "\u001b[0mSuccessfully installed decorator-4.4.2 imageio_ffmpeg-0.5.1 moviepy-1.0.3 proglog-0.1.10\n"
          ]
        },
        {
          "output_type": "display_data",
          "data": {
            "application/vnd.colab-display-data+json": {
              "pip_warning": {
                "packages": [
                  "decorator"
                ]
              },
              "id": "0086bc9d3a994c3b9ea58f913a80bf04"
            }
          },
          "metadata": {}
        }
      ],
      "source": [
        "# Biblioteca para manipulação de vídeos\n",
        "!pip install moviepy"
      ]
    },
    {
      "cell_type": "code",
      "execution_count": null,
      "metadata": {
        "colab": {
          "base_uri": "https://localhost:8080/"
        },
        "id": "uJ6Q_xGa_uCY",
        "outputId": "20f44103-4a8a-4f1c-c608-f4b4b8ce8866"
      },
      "outputs": [
        {
          "output_type": "stream",
          "name": "stdout",
          "text": [
            "Mounted at /content/drive\n"
          ]
        }
      ],
      "source": [
        "# Conexão com o Drive\n",
        "from google.colab import drive\n",
        "drive.mount('/content/drive')"
      ]
    },
    {
      "cell_type": "code",
      "execution_count": null,
      "metadata": {
        "colab": {
          "base_uri": "https://localhost:8080/"
        },
        "id": "7ptJer9UvX6S",
        "outputId": "d473b8e8-89b2-4688-cc05-1e5e96347ff0"
      },
      "outputs": [
        {
          "output_type": "stream",
          "name": "stdout",
          "text": [
            "Carregando colorido_1...\n",
            "Carregando colorido_2...\n",
            "Carregando colorido_3...\n",
            "Concatenando vídeos para salvar em /content/drive/MyDrive/approach_nwot/video_colorido_concatenado.mp4...\n",
            "Vídeo salvo em /content/drive/MyDrive/approach_nwot/video_colorido_concatenado.mp4.\n"
          ]
        }
      ],
      "source": [
        "from moviepy.editor import VideoFileClip, concatenate_videoclips\n",
        "\n",
        "# Função para converter o horário de início (HH:MM:SS) em segundos\n",
        "def time_to_seconds(hour, minute, second):\n",
        "    return hour * 3600 + minute * 60 + second\n",
        "\n",
        "# Informações dos vídeos\n",
        "videos_colorido = {\n",
        "    'colorido_1': {\n",
        "        'path': '/content/drive/MyDrive/approach_nwot/DATA/08-08/00000000217000400.mp4',\n",
        "        'start': time_to_seconds(14, 8, 14)\n",
        "    },\n",
        "    'colorido_2': {\n",
        "        'path': '/content/drive/MyDrive/approach_nwot/DATA/08-08/00000000218000000.mp4',\n",
        "        'start': time_to_seconds(14, 15, 24)\n",
        "    },\n",
        "    'colorido_3': {\n",
        "        'path': '/content/drive/MyDrive/approach_nwot/DATA/08-08/00000000219000000.mp4',\n",
        "        'start': time_to_seconds(15, 25, 42)\n",
        "    },\n",
        "}\n",
        "\n",
        "videos_preto_branco = {\n",
        "    'preto_branco_1': {\n",
        "        'path': '/content/drive/MyDrive/approach_nwot/DATA/08-08/00000000215000500.mp4',\n",
        "        'start': time_to_seconds(14, 8, 14)\n",
        "    },\n",
        "    'preto_branco_2': {\n",
        "        'path': '/content/drive/MyDrive/approach_nwot/DATA/08-08/00000000220000000.mp4',\n",
        "        'start': time_to_seconds(16, 3, 35)\n",
        "    },\n",
        "}\n",
        "\n",
        "# Função para ordenar e concatenar os vídeos\n",
        "def ordenar_e_concatenar_videos(videos_dict, output_path):\n",
        "    # Ordenar os vídeos com base no horário de início\n",
        "    videos_ordenados = sorted(videos_dict.items(), key=lambda x: x[1]['start'])\n",
        "\n",
        "    # Carregar os vídeos na ordem correta\n",
        "    clips = []\n",
        "    for key, video_info in videos_ordenados:\n",
        "        print(f\"Carregando {key}...\")\n",
        "        clip = VideoFileClip(video_info['path'])\n",
        "        clips.append(clip)\n",
        "\n",
        "    # Concatenar os vídeos\n",
        "    print(f\"Concatenando vídeos para salvar em {output_path}...\")\n",
        "    video_final = concatenate_videoclips(clips, method='compose')\n",
        "\n",
        "    # Salvar o vídeo final com menos verbosidade\n",
        "    video_final.write_videofile(output_path, verbose=False, logger=None)\n",
        "\n",
        "    # Fechar os clips para liberar recursos\n",
        "    for clip in clips:\n",
        "        clip.close()\n",
        "    video_final.close()\n",
        "    print(f\"Vídeo salvo em {output_path}.\")\n",
        "\n",
        "# Concatenar os vídeos coloridos\n",
        "output_colorido = '/content/drive/MyDrive/approach_nwot/video_colorido_concatenado.mp4'\n",
        "ordenar_e_concatenar_videos(videos_colorido, output_colorido)\n",
        "\n",
        "# Concatenar os vídeos preto e branco\n",
        "output_preto_branco = '/content/drive/MyDrive/approach_nwot/video_preto_branco_concatenado.mp4'\n",
        "# ordenar_e_concatenar_videos(videos_preto_branco, output_preto_branco)\n"
      ]
    },
    {
      "cell_type": "code",
      "execution_count": null,
      "metadata": {
        "colab": {
          "base_uri": "https://localhost:8080/"
        },
        "id": "Nl3s8py0RXo2",
        "outputId": "01e8f822-d8ea-42c8-f27a-64376ac94a2a"
      },
      "outputs": [
        {
          "name": "stdout",
          "output_type": "stream",
          "text": [
            "Processando os primeiros 10 minutos do vídeo colorido...\n",
            "Moviepy - Building video /content/drive/MyDrive/approach_nwot/video_colorido_10min.mp4.\n",
            "Moviepy - Writing video /content/drive/MyDrive/approach_nwot/video_colorido_10min.mp4\n",
            "\n"
          ]
        },
        {
          "name": "stderr",
          "output_type": "stream",
          "text": []
        },
        {
          "name": "stdout",
          "output_type": "stream",
          "text": [
            "Moviepy - Done !\n",
            "Moviepy - video ready /content/drive/MyDrive/approach_nwot/video_colorido_10min.mp4\n",
            "Vídeo colorido de 10 minutos salvo com sucesso.\n",
            "Processando os primeiros 10 minutos do vídeo preto e branco...\n",
            "Moviepy - Building video /content/drive/MyDrive/approach_nwot/video_preto_branco_10min.mp4.\n",
            "Moviepy - Writing video /content/drive/MyDrive/approach_nwot/video_preto_branco_10min.mp4\n",
            "\n"
          ]
        },
        {
          "name": "stderr",
          "output_type": "stream",
          "text": []
        },
        {
          "name": "stdout",
          "output_type": "stream",
          "text": [
            "Moviepy - Done !\n",
            "Moviepy - video ready /content/drive/MyDrive/approach_nwot/video_preto_branco_10min.mp4\n",
            "Vídeo preto e branco de 10 minutos salvo com sucesso.\n"
          ]
        }
      ],
      "source": [
        "from moviepy.editor import VideoFileClip\n",
        "\n",
        "# Caminhos dos vídeos finais\n",
        "color_video_path = '/content/drive/MyDrive/approach_nwot/video_colorido_final.mp4'\n",
        "bw_video_path = '/content/drive/MyDrive/approach_nwot/video_preto_branco_final.mp4'\n",
        "\n",
        "# Caminhos para salvar os novos vídeos de 10 minutos\n",
        "color_video_10min_path = '/content/drive/MyDrive/approach_nwot/video_colorido_10min.mp4'\n",
        "bw_video_10min_path = '/content/drive/MyDrive/approach_nwot/video_preto_branco_10min.mp4'\n",
        "\n",
        "# Duração em segundos (10 minutos)\n",
        "duration = 600  # 10 minutos * 60 segundos\n",
        "\n",
        "# Processar o vídeo colorido\n",
        "print(\"Processando os primeiros 10 minutos do vídeo colorido...\")\n",
        "color_clip = VideoFileClip(color_video_path)\n",
        "\n",
        "# Garantir que o vídeo tenha pelo menos 10 minutos\n",
        "color_duration = min(color_clip.duration, duration)\n",
        "color_clip_10min = color_clip.subclip(0, color_duration)\n",
        "color_clip_10min.write_videofile(color_video_10min_path)\n",
        "color_clip.close()\n",
        "color_clip_10min.close()\n",
        "print(\"Vídeo colorido de 10 minutos salvo com sucesso.\")\n",
        "\n",
        "# Processar o vídeo preto e branco\n",
        "print(\"Processando os primeiros 10 minutos do vídeo preto e branco...\")\n",
        "bw_clip = VideoFileClip(bw_video_path)\n",
        "\n",
        "# Garantir que o vídeo tenha pelo menos 10 minutos\n",
        "bw_duration = min(bw_clip.duration, duration)\n",
        "bw_clip_10min = bw_clip.subclip(0, bw_duration)\n",
        "bw_clip_10min.write_videofile(bw_video_10min_path)\n",
        "bw_clip.close()\n",
        "bw_clip_10min.close()\n",
        "print(\"Vídeo preto e branco de 10 minutos salvo com sucesso.\")"
      ]
    },
    {
      "cell_type": "code",
      "execution_count": null,
      "metadata": {
        "colab": {
          "base_uri": "https://localhost:8080/"
        },
        "id": "KEChHQtVCBbu",
        "outputId": "66f09d6d-9e6a-4bc0-8751-f9aca44ad251"
      },
      "outputs": [
        {
          "name": "stdout",
          "output_type": "stream",
          "text": [
            "Tamanho do vídeo: 1280x720\n",
            "Número de frames: 18000\n",
            "FPS: 30.0\n",
            "Duração (segundos): 600.00\n",
            "Duração (hh:mm:ss): 0:10:00\n"
          ]
        }
      ],
      "source": [
        "import cv2\n",
        "\n",
        "# Função para obter detalhes do vídeo\n",
        "def get_video_info(video_path):\n",
        "    # Abrir o arquivo de vídeo\n",
        "    video = cv2.VideoCapture(video_path)\n",
        "\n",
        "    if not video.isOpened():\n",
        "        print(\"Não foi possível abrir o vídeo.\")\n",
        "        return\n",
        "\n",
        "    # Obter propriedades do vídeo\n",
        "    frame_count = int(video.get(cv2.CAP_PROP_FRAME_COUNT))\n",
        "    fps = video.get(cv2.CAP_PROP_FPS)\n",
        "    width = int(video.get(cv2.CAP_PROP_FRAME_WIDTH))\n",
        "    height = int(video.get(cv2.CAP_PROP_FRAME_HEIGHT))\n",
        "    duration = frame_count / fps  # Duração em segundos\n",
        "\n",
        "    print(f\"Tamanho do vídeo: {width}x{height}\")\n",
        "    print(f\"Número de frames: {frame_count}\")\n",
        "    print(f\"FPS: {fps}\")\n",
        "    print(f\"Duração (segundos): {duration:.2f}\")\n",
        "    print(f\"Duração (hh:mm:ss): {seconds_to_hhmmss(duration)}\")\n",
        "\n",
        "    # Fechar o vídeo\n",
        "    video.release()\n",
        "\n",
        "# Caminho para o vídeo\n",
        "video_path = '/content/drive/MyDrive/approach_nwot/video_colorido_10min.mp4'\n",
        "\n",
        "# Executar a função\n",
        "get_video_info(video_path)\n"
      ]
    },
    {
      "cell_type": "code",
      "execution_count": null,
      "metadata": {
        "colab": {
          "base_uri": "https://localhost:8080/"
        },
        "id": "Z2Q2Pzi24Is7",
        "outputId": "7e77ece5-27ef-472a-d611-e457fd969fbf"
      },
      "outputs": [
        {
          "name": "stdout",
          "output_type": "stream",
          "text": [
            "Tamanho do vídeo: 640x512\n",
            "Número de frames: 15000\n",
            "FPS: 25.0\n",
            "Duração (segundos): 600.00\n",
            "Duração (hh:mm:ss): 0:10:00\n"
          ]
        }
      ],
      "source": [
        "# Caminho para o vídeo\n",
        "video_path = '/content/drive/MyDrive/approach_nwot/video_preto_branco_10min.mp4'\n",
        "\n",
        "# Executar a função\n",
        "get_video_info(video_path)"
      ]
    }
  ],
  "metadata": {
    "accelerator": "TPU",
    "colab": {
      "gpuType": "V28",
      "machine_shape": "hm",
      "provenance": []
    },
    "kernelspec": {
      "display_name": "Python 3",
      "name": "python3"
    },
    "language_info": {
      "name": "python"
    }
  },
  "nbformat": 4,
  "nbformat_minor": 0
}